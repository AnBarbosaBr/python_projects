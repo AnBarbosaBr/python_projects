{
 "cells": [
  {
   "cell_type": "code",
   "execution_count": 1,
   "id": "669e49cb",
   "metadata": {},
   "outputs": [],
   "source": [
    "import numpy as np\n",
    "import pandas as pd\n",
    "import seaborn as sns\n",
    "from sympy import diff\n",
    "from sympy import symbols\n",
    "import sympy as sp\n",
    "import matplotlib.pyplot as plt"
   ]
  },
  {
   "cell_type": "code",
   "execution_count": 26,
   "id": "78d04729",
   "metadata": {},
   "outputs": [
    {
     "name": "stdout",
     "output_type": "stream",
     "text": [
      "Demanda Cliente 1: 0.44769\n",
      "Demanda Cliente 2: 0.29734\n",
      "Demanda Total: 0.74503\n"
     ]
    }
   ],
   "source": [
    "# Define a função de demanda\n",
    "def demanda(X,P):\n",
    "    #X é uma variavel qq indicadora (X=1/0)\n",
    "    D = np.exp(0.64+0.4*X - 0.005*P)/((1+np.exp(0.64+0.4*X - 0.005*P)))\n",
    "    return D\n",
    "\n",
    "D1 =demanda(1,250)\n",
    "D2 =demanda(0,300)\n",
    "print('Demanda Cliente 1: %s' % round(D1,5))\n",
    "print('Demanda Cliente 2: %s' % round(D2,5))\n",
    "print('Demanda Total: %s' % round((np.sum(D1)+np.sum(D2)),5))"
   ]
  },
  {
   "cell_type": "markdown",
   "id": "88d8a6d0",
   "metadata": {},
   "source": [
    "# Replicando o exemplo\n"
   ]
  },
  {
   "cell_type": "code",
   "execution_count": 30,
   "id": "b614273f",
   "metadata": {
    "scrolled": true
   },
   "outputs": [
    {
     "name": "stdout",
     "output_type": "stream",
     "text": [
      "Lambda: [-196.73901962]\n",
      "P1: [287.59604342]\n",
      "P2: [257.783316]\n"
     ]
    }
   ],
   "source": [
    "def func(X):\n",
    "    p1 = X[0]\n",
    "    p2 = X[1]\n",
    "    L  = X[2] # this is the multiplier. lambda is a reserved keyword in python\n",
    "    return (((sp.exp(1.04)*sp.exp(-0.005*p1))/(1+sp.exp(1.04)*sp.exp(-0.005*p1)))*(p1-150)+((sp.exp(0.64)*sp.exp(-0.005*p2))/(1+sp.exp(0.64)*sp.exp(-0.005*p2)))*(p2-150))-L*((((sp.exp(1.04)*sp.exp(-0.005*p1))/(1+sp.exp(1.04)*sp.exp(-0.005*p1)))+((sp.exp(0.64)*sp.exp(-0.005*p2))/(1+sp.exp(0.64)*sp.exp(-0.005*p2))))-0.7450314360809431)\n",
    "\n",
    "def dfunc(X):\n",
    "    dLambda = np.zeros(len(X))\n",
    "    h = 1e-3 # this is the step size used in the finite difference.\n",
    "    for i in range(len(X)):\n",
    "        dX = np.zeros(len(X))\n",
    "        dX[i] = h\n",
    "        dLambda[i] = (func(X+dX)-func(X-dX))/(2*h);\n",
    "    return dLambda\n",
    "\n",
    "from scipy.optimize import fsolve\n",
    "\n",
    "#this is the max\n",
    "X1 = fsolve(dfunc, [400, 500, 0])\n",
    "#print(X1) \n",
    "#print(func(X1))\n",
    "\n",
    "premio_otim1 = X1[:1]\n",
    "premio_otim2 = X1[1:2]\n",
    "lambda_=X1[2:3]\n",
    "print('Lambda: %s' % lambda_)\n",
    "print('P1: %s' % premio_otim1)\n",
    "print('P2: %s' % premio_otim2)\n"
   ]
  },
  {
   "cell_type": "code",
   "execution_count": 57,
   "id": "0ab43b88",
   "metadata": {
    "scrolled": true
   },
   "outputs": [
    {
     "ename": "SyntaxError",
     "evalue": "expected ':' (1593182531.py, line 1)",
     "output_type": "error",
     "traceback": [
      "\u001b[1;36m  Cell \u001b[1;32mIn[57], line 1\u001b[1;36m\u001b[0m\n\u001b[1;33m    def funcao_margem(L, precos)Ç\u001b[0m\n\u001b[1;37m                                ^\u001b[0m\n\u001b[1;31mSyntaxError\u001b[0m\u001b[1;31m:\u001b[0m expected ':'\n"
     ]
    }
   ],
   "source": [
    "def funcao_margem_registro(L, P):\n",
    "    return((sp.exp(0.64)*sp.exp(-0.005*P))/(1+sp.exp(0.64)*sp.exp(-0.005*P)))*(P-150)  - L*(((sp.exp(0.64)*sp.exp(-0.005*P))/(1+sp.exp(0.64)*sp.exp(-0.005*P)))-0.7450314360809431) \n",
    "def funcao_margem(L, vetor_p):\n",
    "    margens = 0\n",
    "    for p in vetor_p:\n",
    "        margens += funcao_margem_registro(L, p)\n",
    "    return (margens)\n",
    "\n",
    "\n",
    "\n",
    "def derivada(L, vetor_p):\n",
    "    dLambda = np.zeros(1)\n",
    "    h = 1e-3 # this is the step size used in the finite difference.\n",
    "    dL = h\n",
    "    dLambda = (funcao_margem(L+dL, vetor_p)-funcao_margem(L-dL, vetor_p))/(2*h);\n",
    "    return dLambda\n",
    "lambda_encontrado = fsolve(derivada, -196, vetor_p = [500, 0])\n"
   ]
  },
  {
   "cell_type": "code",
   "execution_count": null,
   "id": "881f0771",
   "metadata": {},
   "outputs": [],
   "source": []
  },
  {
   "cell_type": "code",
   "execution_count": 41,
   "id": "db9d54d4",
   "metadata": {},
   "outputs": [],
   "source": [
    "\n",
    "f = ((sp.exp(0.64)*sp.exp(-0.005*P))/(1+sp.exp(0.64)*sp.exp(-0.005*P)))*(P-150)  - L*(((sp.exp(0.64)*sp.exp(-0.005*P))/(1+sp.exp(0.64)*sp.exp(-0.005*P)))-0.7450314360809431) \n",
    "#sp.sum( ((sp.exp(0.64)*sp.exp(-0.005*P))/(1+sp.exp(0.64)*sp.exp(-0.005*P)))*(P-150) ) - sp.sum( L*(((sp.exp(0.64)*sp.exp(-0.005*P))/(1+sp.exp(0.64)*sp.exp(-0.005*P)))-0.7450314360809431) )\n",
    "P = symbols('P')\n",
    "L = symbols('L')\n",
    "#f_prime_P = diff(f, P)\n",
    "#f_prime_L = diff(f, L)\n",
    "#print(f_prime_P)\n",
    "#print(f_prime_L)"
   ]
  },
  {
   "cell_type": "code",
   "execution_count": 39,
   "id": "0ed86610",
   "metadata": {},
   "outputs": [
    {
     "data": {
      "text/latex": [
       "$\\displaystyle - L \\left(- \\frac{0.00948240439652476 e^{- 0.005 P}}{1 + 1.89648087930495 e^{- 0.005 P}} + \\frac{0.005 e^{- 0.01 P}}{\\left(0.527292424043049 + e^{- 0.005 P}\\right)^{2}}\\right) - \\frac{0.00948240439652476 \\left(P - 150\\right) e^{- 0.005 P}}{1 + 1.89648087930495 e^{- 0.005 P}} + \\frac{1.89648087930495 e^{- 0.005 P}}{1 + 1.89648087930495 e^{- 0.005 P}} + \\frac{0.005 \\left(P - 150\\right) e^{- 0.01 P}}{\\left(0.527292424043049 + e^{- 0.005 P}\\right)^{2}}$"
      ],
      "text/plain": [
       "-L*(-0.00948240439652476*exp(-0.005*P)/(1 + 1.89648087930495*exp(-0.005*P)) + 0.005*exp(-0.01*P)/(0.527292424043049 + exp(-0.005*P))**2) - 0.00948240439652476*(P - 150)*exp(-0.005*P)/(1 + 1.89648087930495*exp(-0.005*P)) + 1.89648087930495*exp(-0.005*P)/(1 + 1.89648087930495*exp(-0.005*P)) + 0.005*(P - 150)*exp(-0.01*P)/(0.527292424043049 + exp(-0.005*P))**2"
      ]
     },
     "execution_count": 39,
     "metadata": {},
     "output_type": "execute_result"
    }
   ],
   "source": [
    "diff(f, P)"
   ]
  },
  {
   "cell_type": "code",
   "execution_count": 42,
   "id": "a75e18af",
   "metadata": {},
   "outputs": [
    {
     "data": {
      "text/latex": [
       "$\\displaystyle 0.745031436080943 - \\frac{1.89648087930495 e^{- 0.005 P}}{1 + 1.89648087930495 e^{- 0.005 P}}$"
      ],
      "text/plain": [
       "0.745031436080943 - 1.89648087930495*exp(-0.005*P)/(1 + 1.89648087930495*exp(-0.005*P))"
      ]
     },
     "execution_count": 42,
     "metadata": {},
     "output_type": "execute_result"
    }
   ],
   "source": [
    "diff(f, L)"
   ]
  },
  {
   "cell_type": "code",
   "execution_count": 49,
   "id": "8bfebf49",
   "metadata": {},
   "outputs": [],
   "source": [
    "def func(P):\n",
    "    return 0.745031436080943 - 1.89648087930495*sp.exp(-0.005*𝑃)/(1+1.89648087930495*sp.exp(-0.005*𝑃))\n"
   ]
  },
  {
   "cell_type": "code",
   "execution_count": 55,
   "id": "30cea293",
   "metadata": {},
   "outputs": [
    {
     "data": {
      "text/latex": [
       "$\\displaystyle 0.836371411382606$"
      ],
      "text/plain": [
       "0.836371411382606"
      ]
     },
     "execution_count": 55,
     "metadata": {},
     "output_type": "execute_result"
    }
   ],
   "source": [
    "func(287.59604342)+func(257.783316)"
   ]
  },
  {
   "cell_type": "code",
   "execution_count": 56,
   "id": "1bbe8128",
   "metadata": {},
   "outputs": [
    {
     "data": {
      "text/latex": [
       "$\\displaystyle 0.0913414113826064$"
      ],
      "text/plain": [
       "0.0913414113826064"
      ]
     },
     "execution_count": 56,
     "metadata": {},
     "output_type": "execute_result"
    }
   ],
   "source": [
    "func(287.59604342)+func(257.783316) - 0.74503"
   ]
  },
  {
   "cell_type": "code",
   "execution_count": null,
   "id": "6684e1c0",
   "metadata": {},
   "outputs": [],
   "source": []
  }
 ],
 "metadata": {
  "kernelspec": {
   "display_name": "Python 3 (ipykernel)",
   "language": "python",
   "name": "python3"
  },
  "language_info": {
   "codemirror_mode": {
    "name": "ipython",
    "version": 3
   },
   "file_extension": ".py",
   "mimetype": "text/x-python",
   "name": "python",
   "nbconvert_exporter": "python",
   "pygments_lexer": "ipython3",
   "version": "3.10.9"
  }
 },
 "nbformat": 4,
 "nbformat_minor": 5
}
